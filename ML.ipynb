{
  "cells": [
    {
      "cell_type": "code",
      "execution_count": 8,
      "metadata": {
        "id": "CCSs8KAt3MSg"
      },
      "outputs": [],
      "source": [
        "import numpy as np\n",
        "import pandas as pd\n",
        "import sklearn\n",
        "from sklearn.linear_model import LogisticRegression\n",
        "from sklearn.model_selection import train_test_split\n",
        "import warnings\n",
        "import pickle\n",
        "warnings.filterwarnings(\"ignore\")"
      ]
    },
    {
      "cell_type": "code",
      "execution_count": 6,
      "metadata": {
        "id": "FVlTNAto92oT"
      },
      "outputs": [],
      "source": [
        "data = pd.read_csv(\"Forest_fire.csv\")\n",
        "data = np.array(data)\n",
        "\n",
        "X = data[1:, 1:-1]\n",
        "y = data[1:, -1]\n",
        "y = y.astype('int')\n",
        "X = X.astype('int')\n",
        "# print(X,y)\n",
        "X_train, X_test, y_train, y_test = train_test_split(X, y, test_size=0.3, random_state=0)\n",
        "log_reg = LogisticRegression()"
      ]
    },
    {
      "cell_type": "code",
      "execution_count": 7,
      "metadata": {
        "id": "jgrjrDcj5b_r"
      },
      "outputs": [],
      "source": [
        "log_reg.fit(X_train, y_train)\n",
        "\n",
        "pickle.dump(log_reg,open('model.pkl','wb'))"
      ]
    },
    {
      "cell_type": "code",
      "execution_count": 4,
      "metadata": {
        "id": "GdTQUAqH-3cN"
      },
      "outputs": [],
      "source": []
    }
  ],
  "metadata": {
    "colab": {
      "provenance": []
    },
    "kernelspec": {
      "display_name": "Python 3",
      "name": "python3"
    },
    "language_info": {
      "name": "python"
    }
  },
  "nbformat": 4,
  "nbformat_minor": 0
}